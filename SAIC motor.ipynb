{
 "cells": [
  {
   "cell_type": "code",
   "execution_count": 5,
   "metadata": {},
   "outputs": [
    {
     "name": "stderr",
     "output_type": "stream",
     "text": [
      "/anaconda3/lib/python3.7/site-packages/matplotlib/__init__.py:1066: UserWarning: Duplicate key in file \"/Users/hy/.matplotlib/matplotlibrc\", line #2\n",
      "  (fname, cnt))\n"
     ]
    }
   ],
   "source": [
    "import numpy as np\n",
    "import pandas as pd\n",
    "from pandas import Series, DataFrame\n",
    "import os, json"
   ]
  },
  {
   "cell_type": "code",
   "execution_count": 6,
   "metadata": {},
   "outputs": [],
   "source": [
    "pd.set_option('display.max_columns', None)"
   ]
  },
  {
   "cell_type": "code",
   "execution_count": null,
   "metadata": {
    "scrolled": true
   },
   "outputs": [],
   "source": [
    "# 读取data文件夹中的json数据，并转化为DataFrame\n",
    "path_to_json = 'data/'\n",
    "json_files = [pos_json for pos_json in os.listdir(path_to_json) if pos_json.endswith('.json')]\n",
    "\n",
    "js = list()\n",
    "for json_file in json_files:\n",
    "    with open(path_to_json + json_file, 'r') as json_file:\n",
    "        js.append(json.load(json_file))\n",
    "vehicle = pd.DataFrame(js[0]['Vehicle'])\n",
    "station = pd.DataFrame(js[1]['Station'])\n",
    "matrix = pd.DataFrame(js[2]['Matrix'])\n",
    "box = pd.DataFrame(js[3]['Bin'])"
   ]
  },
  {
   "cell_type": "code",
   "execution_count": null,
   "metadata": {},
   "outputs": [],
   "source": [
    "# 评估最少经费的函数\n"
   ]
  },
  {
   "cell_type": "code",
   "execution_count": 21,
   "metadata": {},
   "outputs": [
    {
     "data": {
      "text/html": [
       "<div>\n",
       "<style scoped>\n",
       "    .dataframe tbody tr th:only-of-type {\n",
       "        vertical-align: middle;\n",
       "    }\n",
       "\n",
       "    .dataframe tbody tr th {\n",
       "        vertical-align: top;\n",
       "    }\n",
       "\n",
       "    .dataframe thead th {\n",
       "        text-align: right;\n",
       "    }\n",
       "</style>\n",
       "<table border=\"1\" class=\"dataframe\">\n",
       "  <thead>\n",
       "    <tr style=\"text-align: right;\">\n",
       "      <th></th>\n",
       "      <th>distance_fare</th>\n",
       "      <th>flag_down_fare</th>\n",
       "      <th>vehicle_id</th>\n",
       "      <th>vehicle_length</th>\n",
       "      <th>vehicle_weight</th>\n",
       "      <th>vehicle_width</th>\n",
       "    </tr>\n",
       "  </thead>\n",
       "  <tbody>\n",
       "    <tr>\n",
       "      <th>0</th>\n",
       "      <td>0.004</td>\n",
       "      <td>888</td>\n",
       "      <td>V001</td>\n",
       "      <td>7.8</td>\n",
       "      <td>10000</td>\n",
       "      <td>2.3</td>\n",
       "    </tr>\n",
       "    <tr>\n",
       "      <th>1</th>\n",
       "      <td>0.004</td>\n",
       "      <td>888</td>\n",
       "      <td>V002</td>\n",
       "      <td>7.8</td>\n",
       "      <td>10000</td>\n",
       "      <td>2.3</td>\n",
       "    </tr>\n",
       "    <tr>\n",
       "      <th>2</th>\n",
       "      <td>0.004</td>\n",
       "      <td>888</td>\n",
       "      <td>V003</td>\n",
       "      <td>7.8</td>\n",
       "      <td>10000</td>\n",
       "      <td>2.3</td>\n",
       "    </tr>\n",
       "    <tr>\n",
       "      <th>3</th>\n",
       "      <td>0.004</td>\n",
       "      <td>888</td>\n",
       "      <td>V004</td>\n",
       "      <td>7.8</td>\n",
       "      <td>10000</td>\n",
       "      <td>2.3</td>\n",
       "    </tr>\n",
       "    <tr>\n",
       "      <th>4</th>\n",
       "      <td>0.004</td>\n",
       "      <td>888</td>\n",
       "      <td>V005</td>\n",
       "      <td>7.8</td>\n",
       "      <td>10000</td>\n",
       "      <td>2.3</td>\n",
       "    </tr>\n",
       "  </tbody>\n",
       "</table>\n",
       "</div>"
      ],
      "text/plain": [
       "   distance_fare  flag_down_fare vehicle_id  vehicle_length  vehicle_weight  \\\n",
       "0          0.004             888       V001             7.8           10000   \n",
       "1          0.004             888       V002             7.8           10000   \n",
       "2          0.004             888       V003             7.8           10000   \n",
       "3          0.004             888       V004             7.8           10000   \n",
       "4          0.004             888       V005             7.8           10000   \n",
       "\n",
       "   vehicle_width  \n",
       "0            2.3  \n",
       "1            2.3  \n",
       "2            2.3  \n",
       "3            2.3  \n",
       "4            2.3  "
      ]
     },
     "execution_count": 21,
     "metadata": {},
     "output_type": "execute_result"
    }
   ],
   "source": [
    "vehicle.head()"
   ]
  },
  {
   "cell_type": "code",
   "execution_count": 23,
   "metadata": {},
   "outputs": [
    {
     "data": {
      "text/html": [
       "<div>\n",
       "<style scoped>\n",
       "    .dataframe tbody tr th:only-of-type {\n",
       "        vertical-align: middle;\n",
       "    }\n",
       "\n",
       "    .dataframe tbody tr th {\n",
       "        vertical-align: top;\n",
       "    }\n",
       "\n",
       "    .dataframe thead th {\n",
       "        text-align: right;\n",
       "    }\n",
       "</style>\n",
       "<table border=\"1\" class=\"dataframe\">\n",
       "  <thead>\n",
       "    <tr style=\"text-align: right;\">\n",
       "      <th></th>\n",
       "      <th>loading_time</th>\n",
       "      <th>station_id</th>\n",
       "      <th>vehicle_limit</th>\n",
       "    </tr>\n",
       "  </thead>\n",
       "  <tbody>\n",
       "    <tr>\n",
       "      <th>0</th>\n",
       "      <td>24</td>\n",
       "      <td>S001</td>\n",
       "      <td>8</td>\n",
       "    </tr>\n",
       "    <tr>\n",
       "      <th>1</th>\n",
       "      <td>19</td>\n",
       "      <td>S002</td>\n",
       "      <td>10</td>\n",
       "    </tr>\n",
       "    <tr>\n",
       "      <th>2</th>\n",
       "      <td>19</td>\n",
       "      <td>S003</td>\n",
       "      <td>10</td>\n",
       "    </tr>\n",
       "    <tr>\n",
       "      <th>3</th>\n",
       "      <td>22</td>\n",
       "      <td>S004</td>\n",
       "      <td>10</td>\n",
       "    </tr>\n",
       "    <tr>\n",
       "      <th>4</th>\n",
       "      <td>14</td>\n",
       "      <td>S005</td>\n",
       "      <td>8</td>\n",
       "    </tr>\n",
       "  </tbody>\n",
       "</table>\n",
       "</div>"
      ],
      "text/plain": [
       "   loading_time station_id  vehicle_limit\n",
       "0            24       S001              8\n",
       "1            19       S002             10\n",
       "2            19       S003             10\n",
       "3            22       S004             10\n",
       "4            14       S005              8"
      ]
     },
     "execution_count": 23,
     "metadata": {},
     "output_type": "execute_result"
    }
   ],
   "source": [
    "station.head()"
   ]
  },
  {
   "cell_type": "code",
   "execution_count": 24,
   "metadata": {},
   "outputs": [
    {
     "data": {
      "text/html": [
       "<div>\n",
       "<style scoped>\n",
       "    .dataframe tbody tr th:only-of-type {\n",
       "        vertical-align: middle;\n",
       "    }\n",
       "\n",
       "    .dataframe tbody tr th {\n",
       "        vertical-align: top;\n",
       "    }\n",
       "\n",
       "    .dataframe thead th {\n",
       "        text-align: right;\n",
       "    }\n",
       "</style>\n",
       "<table border=\"1\" class=\"dataframe\">\n",
       "  <thead>\n",
       "    <tr style=\"text-align: right;\">\n",
       "      <th></th>\n",
       "      <th>bin_id</th>\n",
       "      <th>bin_length</th>\n",
       "      <th>bin_weight</th>\n",
       "      <th>bin_width</th>\n",
       "      <th>station</th>\n",
       "    </tr>\n",
       "  </thead>\n",
       "  <tbody>\n",
       "    <tr>\n",
       "      <th>0</th>\n",
       "      <td>B00001</td>\n",
       "      <td>1.65</td>\n",
       "      <td>132</td>\n",
       "      <td>0.85</td>\n",
       "      <td>S039</td>\n",
       "    </tr>\n",
       "    <tr>\n",
       "      <th>1</th>\n",
       "      <td>B00002</td>\n",
       "      <td>1.65</td>\n",
       "      <td>195</td>\n",
       "      <td>0.85</td>\n",
       "      <td>S053</td>\n",
       "    </tr>\n",
       "    <tr>\n",
       "      <th>2</th>\n",
       "      <td>B00003</td>\n",
       "      <td>1.65</td>\n",
       "      <td>32</td>\n",
       "      <td>0.85</td>\n",
       "      <td>S001</td>\n",
       "    </tr>\n",
       "    <tr>\n",
       "      <th>3</th>\n",
       "      <td>B00004</td>\n",
       "      <td>1.65</td>\n",
       "      <td>118</td>\n",
       "      <td>0.85</td>\n",
       "      <td>S057</td>\n",
       "    </tr>\n",
       "    <tr>\n",
       "      <th>4</th>\n",
       "      <td>B00005</td>\n",
       "      <td>1.65</td>\n",
       "      <td>398</td>\n",
       "      <td>1.65</td>\n",
       "      <td>S096</td>\n",
       "    </tr>\n",
       "  </tbody>\n",
       "</table>\n",
       "</div>"
      ],
      "text/plain": [
       "   bin_id  bin_length  bin_weight  bin_width station\n",
       "0  B00001        1.65         132       0.85    S039\n",
       "1  B00002        1.65         195       0.85    S053\n",
       "2  B00003        1.65          32       0.85    S001\n",
       "3  B00004        1.65         118       0.85    S057\n",
       "4  B00005        1.65         398       1.65    S096"
      ]
     },
     "execution_count": 24,
     "metadata": {},
     "output_type": "execute_result"
    }
   ],
   "source": [
    "box.head()"
   ]
  },
  {
   "cell_type": "code",
   "execution_count": 25,
   "metadata": {},
   "outputs": [
    {
     "data": {
      "text/html": [
       "<div>\n",
       "<style scoped>\n",
       "    .dataframe tbody tr th:only-of-type {\n",
       "        vertical-align: middle;\n",
       "    }\n",
       "\n",
       "    .dataframe tbody tr th {\n",
       "        vertical-align: top;\n",
       "    }\n",
       "\n",
       "    .dataframe thead th {\n",
       "        text-align: right;\n",
       "    }\n",
       "</style>\n",
       "<table border=\"1\" class=\"dataframe\">\n",
       "  <thead>\n",
       "    <tr style=\"text-align: right;\">\n",
       "      <th></th>\n",
       "      <th>arrival_station_id</th>\n",
       "      <th>departure_station_id</th>\n",
       "      <th>distance</th>\n",
       "      <th>time</th>\n",
       "    </tr>\n",
       "  </thead>\n",
       "  <tbody>\n",
       "    <tr>\n",
       "      <th>0</th>\n",
       "      <td>S001</td>\n",
       "      <td>S001</td>\n",
       "      <td>1</td>\n",
       "      <td>1.0</td>\n",
       "    </tr>\n",
       "    <tr>\n",
       "      <th>1</th>\n",
       "      <td>S001</td>\n",
       "      <td>S002</td>\n",
       "      <td>1</td>\n",
       "      <td>1.0</td>\n",
       "    </tr>\n",
       "    <tr>\n",
       "      <th>2</th>\n",
       "      <td>S001</td>\n",
       "      <td>S003</td>\n",
       "      <td>29701</td>\n",
       "      <td>29.0</td>\n",
       "    </tr>\n",
       "    <tr>\n",
       "      <th>3</th>\n",
       "      <td>S001</td>\n",
       "      <td>S004</td>\n",
       "      <td>255</td>\n",
       "      <td>2.0</td>\n",
       "    </tr>\n",
       "    <tr>\n",
       "      <th>4</th>\n",
       "      <td>S001</td>\n",
       "      <td>S005</td>\n",
       "      <td>31108</td>\n",
       "      <td>34.0</td>\n",
       "    </tr>\n",
       "  </tbody>\n",
       "</table>\n",
       "</div>"
      ],
      "text/plain": [
       "  arrival_station_id departure_station_id  distance  time\n",
       "0               S001                 S001         1   1.0\n",
       "1               S001                 S002         1   1.0\n",
       "2               S001                 S003     29701  29.0\n",
       "3               S001                 S004       255   2.0\n",
       "4               S001                 S005     31108  34.0"
      ]
     },
     "execution_count": 25,
     "metadata": {},
     "output_type": "execute_result"
    }
   ],
   "source": [
    "matrix.head()"
   ]
  },
  {
   "cell_type": "code",
   "execution_count": 26,
   "metadata": {},
   "outputs": [],
   "source": [
    "# 随机运送\n",
    "from random import choice\n",
    "\n",
    "# 随机选择1辆车\n",
    "car_1 = choice(vehicle['vehicle_id'])\n",
    "# 随机选择1个货箱\n",
    "box_1 = choice(box['bin_id'])"
   ]
  },
  {
   "cell_type": "code",
   "execution_count": 27,
   "metadata": {},
   "outputs": [],
   "source": [
    "# 按照要求，建立输出结果的字典\n",
    "result = dict()\n",
    "result[car_1] = dict()\n",
    "result[car_1]['Route'] = list(box[box['bin_id']==box_1]['station'])"
   ]
  },
  {
   "cell_type": "code",
   "execution_count": 28,
   "metadata": {},
   "outputs": [
    {
     "data": {
      "text/html": [
       "<div>\n",
       "<style scoped>\n",
       "    .dataframe tbody tr th:only-of-type {\n",
       "        vertical-align: middle;\n",
       "    }\n",
       "\n",
       "    .dataframe tbody tr th {\n",
       "        vertical-align: top;\n",
       "    }\n",
       "\n",
       "    .dataframe thead th {\n",
       "        text-align: right;\n",
       "    }\n",
       "</style>\n",
       "<table border=\"1\" class=\"dataframe\">\n",
       "  <thead>\n",
       "    <tr style=\"text-align: right;\">\n",
       "      <th></th>\n",
       "      <th>distance_fare</th>\n",
       "      <th>flag_down_fare</th>\n",
       "      <th>vehicle_id</th>\n",
       "      <th>vehicle_length</th>\n",
       "      <th>vehicle_weight</th>\n",
       "      <th>vehicle_width</th>\n",
       "    </tr>\n",
       "  </thead>\n",
       "  <tbody>\n",
       "    <tr>\n",
       "      <th>406</th>\n",
       "      <td>0.00418</td>\n",
       "      <td>999</td>\n",
       "      <td>V407</td>\n",
       "      <td>9.6</td>\n",
       "      <td>15000</td>\n",
       "      <td>3.0</td>\n",
       "    </tr>\n",
       "  </tbody>\n",
       "</table>\n",
       "</div>"
      ],
      "text/plain": [
       "     distance_fare  flag_down_fare vehicle_id  vehicle_length  vehicle_weight  \\\n",
       "406        0.00418             999       V407             9.6           15000   \n",
       "\n",
       "     vehicle_width  \n",
       "406            3.0  "
      ]
     },
     "execution_count": 28,
     "metadata": {},
     "output_type": "execute_result"
    }
   ],
   "source": [
    "# 装货\n",
    "vehicle[vehicle['vehicle_id']==car_1]"
   ]
  },
  {
   "cell_type": "code",
   "execution_count": 29,
   "metadata": {},
   "outputs": [
    {
     "data": {
      "text/plain": [
       "{'V407': {'Route': ['S054']}}"
      ]
     },
     "execution_count": 29,
     "metadata": {},
     "output_type": "execute_result"
    }
   ],
   "source": [
    "result"
   ]
  },
  {
   "cell_type": "code",
   "execution_count": 33,
   "metadata": {},
   "outputs": [
    {
     "data": {
      "text/plain": [
       "2759    1.28\n",
       "Name: bin_length, dtype: float64"
      ]
     },
     "execution_count": 33,
     "metadata": {},
     "output_type": "execute_result"
    }
   ],
   "source": [
    "box[box['bin_id']==box_1]['bin_length']"
   ]
  },
  {
   "cell_type": "code",
   "execution_count": 35,
   "metadata": {},
   "outputs": [
    {
     "data": {
      "text/plain": [
       "2759    1.05\n",
       "Name: bin_width, dtype: float64"
      ]
     },
     "execution_count": 35,
     "metadata": {},
     "output_type": "execute_result"
    }
   ],
   "source": [
    "box[box['bin_id']==box_1]['bin_width']"
   ]
  },
  {
   "cell_type": "code",
   "execution_count": 34,
   "metadata": {},
   "outputs": [],
   "source": [
    "# 采用BL二维装箱算法，先将第一个物体放置于右下角，然后向上移动优先，直到不能向上移动，向左移动\n",
    "class BLpacking():\n",
    "    \n",
    "    # 初始化卡车的长、宽、高，并初始化装载结果\n",
    "    def __init__(self, truck_id, truck_length, truck_width, truck_weight):\n",
    "        self.truck_id = truck_id\n",
    "        self.truck_length = truck_length\n",
    "        self.truck_width = truck_width\n",
    "        self.truck_weight = truck_weight\n",
    "        self.packed_output = dict()\n",
    "        self.packed_output[self.truck_id] = dict()\n",
    "        self.packed_output['box_exit'] = False\n",
    "        self.packed_output['sum_weight'] = 0\n",
    "    \n",
    "    # 装箱方法\n",
    "    def packing(self, box_id, box_length, box_width, box_weight):\n",
    "        self.box_id = box_id\n",
    "        self.box_length = box_length\n",
    "        self.box_width = box_width\n",
    "        self.box_weight = box_weight\n",
    "        self.pack_tf = False\n",
    "        \n",
    "        # 判断1:如果货物长宽大于货车长宽，或者货物重量超过剩余可装载重量，返回False以及之前的装载结果\n",
    "        if((self.box_length>self.truck_length)|(self.box_width>self.truck_width)|(self.box_weight>(self.truck_weight-self.packed_output['sum_weight']))):\n",
    "            return self.pack_tf, self.packed_output\n",
    "        # 判断2:如果卡车上的货物为空，将这个标志值改为True，并且将该货物装载到卡车上，记录装货的坐标，并返回结果\n",
    "        elif self.packed_output['box_exit'] == False:\n",
    "            self.packed_output['box_exit'] = True\n",
    "            self.packed_output[self.truck_id][box_id] = np.zeros((4,2)) #初始化一个4行2列的数组，并利用长宽赋值数组，记录位置\n",
    "            self.packed_output[self.truck_id][box_id][1][1] = self.box_width \n",
    "            self.packed_output[self.truck_id][box_id][2][1] = self.box_width\n",
    "            self.packed_output[self.truck_id][box_id][2][0] = self.box_length\n",
    "            self.packed_output[self.truck_id][box_id][3][0] = self.box_length\n",
    "            \n",
    "            self.packed_output['sum_weight'] += self.box_weight\n",
    "            self.pack_tf = True\n",
    "            return self.pack_tf, self.packed_output\n",
    "        # 否则，将货物置于右下角最底端\n",
    "        else:  \n",
    "            temp = np.zeros((4,2))\n",
    "            temp[:,0] = self.truck_length\n",
    "            temp[:,1] = self.truck_width\n",
    "            temp[:2,0] = self.truck_length - self.box_length\n",
    "            temp[0,1] = self.truck_width - self.box_width\n",
    "            temp[3,1] = self.truck_width - self.box_width\n",
    "            \n",
    "            # 比较货物是否与已有货物重叠\n",
    "            for i in self.packed_output[self.truck_id]:\n",
    "                if (self.packed_output[self.truck_id][i][2][0] > temp[0][0]) & (self.packed_output[self.truck_id][i][2][1] > temp[0][1]):\n",
    "                    # 若重叠，也不能倒放，则结束\n",
    "                    if self.box_length>self.truck_width:\n",
    "                        return self.pack_tf, self.packed_output\n",
    "                        break\n",
    "                    # 若可以倒放，将货物的坐标倒放\n",
    "                    else:\n",
    "                        temp[:,0] = self.truck_length\n",
    "                        temp[:,1] = self.truck_width\n",
    "                        temp[:2,0] = self.truck_length - self.box_width\n",
    "                        temp[0,1] = self.truck_width - self.box_length\n",
    "                        temp[3,1] = self.truck_width - self.box_length\n",
    "                        \n",
    "                        # 再次比较货物是否与已有货物重叠\n",
    "                        for j in self.packed_output[self.truck_id]:\n",
    "                            if (self.packed_output[self.truck_id][j][2][0] > temp[0][0]) & (self.packed_output[self.truck_id][j][2][1] > temp[0][1]):\n",
    "                                return self.pack_tf, self.packed_output\n",
    "                                break\n",
    "                        else:\n",
    "                            \n",
    "                                move_up = True\n",
    "                                move_left = True\n",
    "                                while move_left:\n",
    "                                    # 向上移动优先\n",
    "                                    while move_up:\n",
    "                                        max_x = 0\n",
    "                                        max_left = 0\n",
    "                                        # 找到box上方最高的能够挡住box的货物，并向上移动\n",
    "                                        for m in self.packed_output[self.truck_id]:\n",
    "                                            if (self.packed_output[self.truck_id][m][2][1] > temp[0][1])&(self.packed_output[self.truck_id][m][3][1]<temp[1][1]):\n",
    "                                                if self.packed_output[self.truck_id][m][2][0] > max_x:\n",
    "                                                    max_x = self.packed_output[self.truck_id][m][2][0]\n",
    "                                                    max_left = self.packed_output[self.truck_id][m][0][1]\n",
    "                                        temp[:,0] - (temp[0][0] - max_x)\n",
    "                                        \n",
    "                                        move_up = False\n",
    "                                    \n",
    "                                    max_y = 0\n",
    "                                    # 向左移动，找到能够挡住box左移的货物\n",
    "                                    for n in self.packed_output[self.truck_id]:\n",
    "                                        if self.packed_output[self.truck_id][n][2][0] > temp[0][0]& self.packed_output[self.truck_id][n][1][0]<temp[0][0]:\n",
    "                                            if self.packed_output[self.truck_id][n][1][1] > max_y:\n",
    "                                                max_y = self.packed_output[self.truck_id][n][1][1]\n",
    "                                    # 如果box无法全部移动至左边，则移动到挡住box的货物右侧\n",
    "                                    if (max_left - max_y) < self.box_width:\n",
    "                                        temp[:,1] - (temp[0][1]-max_y)\n",
    "                                    # 否则，全部移动到box上方货物的左侧\n",
    "                                    else:\n",
    "                                        temp[:,1] - (temp[1][1]-max_left)\n",
    "                                    \n",
    "                                    if temp[0][0] == 0:\n",
    "                                        move_left = False\n",
    "                                        self.packed_output[self.truck_id][box_id] = np.zeros((4,2))\n",
    "                                        self.packed_output[self.truck_id][box_id] += temp\n",
    "                                        self.packed_output['sum_weight'] += self.box_weight\n",
    "                                        self.pack_tf = True\n",
    "                                        return self.pack_tf, self.packed_output\n",
    "                                        \n",
    "                                    else:\n",
    "                                        max_x = 0\n",
    "                                        for l in self.packed_output[self.truck_id]:\n",
    "                                            if (self.packed_output[self.truck_id][l][2][1] > temp[0][1])&(self.packed_output[self.truck_id][l][3][1]<temp[1][1]):\n",
    "                                                if self.packed_output[self.truck_id][l][2][0] > max_x:\n",
    "                                                    max_x = self.packed_output[self.truck_id][l][2][0]\n",
    "                                        if max_x == temp[0][0]:\n",
    "                                            move_left = False\n",
    "                                            self.packed_output[self.truck_id][box_id] = np.zeros((4,2))\n",
    "                                            self.packed_output[self.truck_id][box_id] += temp\n",
    "                                            self.packed_output['sum_weight'] += self.box_weight\n",
    "                                            self.pack_tf = True\n",
    "                                            return self.pack_tf, self.packed_output\n",
    "                                \n",
    "            else:\n",
    "                \n",
    "                move_up = True\n",
    "                move_left = True                \n",
    "                while move_left:\n",
    "                # 向上移动优先\n",
    "                    while move_up:\n",
    "                        max_x = 0\n",
    "                        max_left = 0\n",
    "                        # 找到box上方最高的能够挡住box的货物，并向上移动\n",
    "                        for m in self.packed_output[self.truck_id]:\n",
    "                            if (self.packed_output[self.truck_id][m][2][1] > temp[0][1])&(self.packed_output[self.truck_id][m][3][1]<temp[1][1]):\n",
    "                                if self.packed_output[self.truck_id][m][2][0] > max_x:\n",
    "                                    max_x = self.packed_output[self.truck_id][m][2][0]\n",
    "                                    max_left = self.packed_output[self.truck_id][m][0][1]\n",
    "                                    temp[:,0] - (temp[0][0] - max_x)\n",
    "                                    move_up = False\n",
    "                    max_y = 0\n",
    "                    # 向左移动，找到能够挡住box左移的货物\n",
    "                    for n in self.packed_output[self.truck_id]:\n",
    "                        if self.packed_output[self.truck_id][n][2][0] > temp[0][0]& self.packed_output[self.truck_id][n][1][0]<temp[0][0]:\n",
    "                            if self.packed_output[self.truck_id][n][1][1] > max_y:\n",
    "                                max_y = self.packed_output[self.truck_id][n][1][1]\n",
    "                                # 如果box无法全部移动至左边，则移动到挡住box的货物右侧\n",
    "                                if (max_left - max_y) < self.box_width:\n",
    "                                    temp[:,1] - (temp[0][1]-max_y)\n",
    "                                    # 否则，全部移动到box上方货物的左侧\n",
    "                                else:\n",
    "                                    temp[:,1] - (temp[1][1]-max_left)\n",
    "                                    \n",
    "                    if temp[0][0] == 0:\n",
    "                        move_left = False\n",
    "                        self.packed_output[self.truck_id][box_id] = np.zeros((4,2))\n",
    "                        self.packed_output[self.truck_id][box_id] += temp\n",
    "                        self.packed_output['sum_weight'] += self.box_weight\n",
    "                        self.pack_tf = True\n",
    "                        return self.pack_tf, self.packed_output\n",
    "                                        \n",
    "                    else:\n",
    "                        max_x = 0\n",
    "                        for l in self.packed_output[self.truck_id]:\n",
    "                            if (self.packed_output[self.truck_id][l][2][1] > temp[0][1])&(self.packed_output[self.truck_id][l][3][1]<temp[1][1]):\n",
    "                                if self.packed_output[self.truck_id][l][2][0] > max_x:\n",
    "                                    max_x = self.packed_output[self.truck_id][l][2][0]\n",
    "                        if max_x == temp[0][0]:\n",
    "                            move_left = False\n",
    "                            self.packed_output[self.truck_id][box_id] = np.zeros((4,2))\n",
    "                            self.packed_output[self.truck_id][box_id] += temp\n",
    "                            self.packed_output['sum_weight'] += self.box_weight\n",
    "                            self.pack_tf = True\n",
    "                            return self.pack_tf, self.packed_output"
   ]
  },
  {
   "cell_type": "code",
   "execution_count": 35,
   "metadata": {},
   "outputs": [],
   "source": [
    "test1 = BLpacking('C1', 20, 8, 100)"
   ]
  },
  {
   "cell_type": "code",
   "execution_count": 36,
   "metadata": {},
   "outputs": [
    {
     "data": {
      "text/plain": [
       "(True, {'C1': {'box1': array([[0., 0.],\n",
       "          [0., 1.],\n",
       "          [2., 1.],\n",
       "          [2., 0.]])}, 'box_exit': True, 'sum_weight': 5})"
      ]
     },
     "execution_count": 36,
     "metadata": {},
     "output_type": "execute_result"
    }
   ],
   "source": [
    "test1.packing('box1',2,1,5)"
   ]
  },
  {
   "cell_type": "code",
   "execution_count": 40,
   "metadata": {},
   "outputs": [
    {
     "ename": "KeyboardInterrupt",
     "evalue": "",
     "output_type": "error",
     "traceback": [
      "\u001b[0;31m---------------------------------------------------------------------------\u001b[0m",
      "\u001b[0;31mKeyboardInterrupt\u001b[0m                         Traceback (most recent call last)",
      "\u001b[0;32m<ipython-input-40-ded456229af9>\u001b[0m in \u001b[0;36m<module>\u001b[0;34m()\u001b[0m\n\u001b[0;32m----> 1\u001b[0;31m \u001b[0mtest1\u001b[0m\u001b[0;34m.\u001b[0m\u001b[0mpacking\u001b[0m\u001b[0;34m(\u001b[0m\u001b[0;34m'box2'\u001b[0m\u001b[0;34m,\u001b[0m\u001b[0;36m4\u001b[0m\u001b[0;34m,\u001b[0m\u001b[0;36m3\u001b[0m\u001b[0;34m,\u001b[0m\u001b[0;36m10\u001b[0m\u001b[0;34m)\u001b[0m\u001b[0;34m\u001b[0m\u001b[0m\n\u001b[0m",
      "\u001b[0;32m<ipython-input-34-477170fc9f8d>\u001b[0m in \u001b[0;36mpacking\u001b[0;34m(self, box_id, box_length, box_width, box_weight)\u001b[0m\n\u001b[1;32m    130\u001b[0m                         \u001b[0;31m# 找到box上方最高的能够挡住box的货物，并向上移动\u001b[0m\u001b[0;34m\u001b[0m\u001b[0;34m\u001b[0m\u001b[0m\n\u001b[1;32m    131\u001b[0m                         \u001b[0;32mfor\u001b[0m \u001b[0mm\u001b[0m \u001b[0;32min\u001b[0m \u001b[0mself\u001b[0m\u001b[0;34m.\u001b[0m\u001b[0mpacked_output\u001b[0m\u001b[0;34m[\u001b[0m\u001b[0mself\u001b[0m\u001b[0;34m.\u001b[0m\u001b[0mtruck_id\u001b[0m\u001b[0;34m]\u001b[0m\u001b[0;34m:\u001b[0m\u001b[0;34m\u001b[0m\u001b[0m\n\u001b[0;32m--> 132\u001b[0;31m                             \u001b[0;32mif\u001b[0m \u001b[0;34m(\u001b[0m\u001b[0mself\u001b[0m\u001b[0;34m.\u001b[0m\u001b[0mpacked_output\u001b[0m\u001b[0;34m[\u001b[0m\u001b[0mself\u001b[0m\u001b[0;34m.\u001b[0m\u001b[0mtruck_id\u001b[0m\u001b[0;34m]\u001b[0m\u001b[0;34m[\u001b[0m\u001b[0mm\u001b[0m\u001b[0;34m]\u001b[0m\u001b[0;34m[\u001b[0m\u001b[0;36m2\u001b[0m\u001b[0;34m]\u001b[0m\u001b[0;34m[\u001b[0m\u001b[0;36m1\u001b[0m\u001b[0;34m]\u001b[0m \u001b[0;34m>\u001b[0m \u001b[0mtemp\u001b[0m\u001b[0;34m[\u001b[0m\u001b[0;36m0\u001b[0m\u001b[0;34m]\u001b[0m\u001b[0;34m[\u001b[0m\u001b[0;36m1\u001b[0m\u001b[0;34m]\u001b[0m\u001b[0;34m)\u001b[0m\u001b[0;34m&\u001b[0m\u001b[0;34m(\u001b[0m\u001b[0mself\u001b[0m\u001b[0;34m.\u001b[0m\u001b[0mpacked_output\u001b[0m\u001b[0;34m[\u001b[0m\u001b[0mself\u001b[0m\u001b[0;34m.\u001b[0m\u001b[0mtruck_id\u001b[0m\u001b[0;34m]\u001b[0m\u001b[0;34m[\u001b[0m\u001b[0mm\u001b[0m\u001b[0;34m]\u001b[0m\u001b[0;34m[\u001b[0m\u001b[0;36m3\u001b[0m\u001b[0;34m]\u001b[0m\u001b[0;34m[\u001b[0m\u001b[0;36m1\u001b[0m\u001b[0;34m]\u001b[0m\u001b[0;34m<\u001b[0m\u001b[0mtemp\u001b[0m\u001b[0;34m[\u001b[0m\u001b[0;36m1\u001b[0m\u001b[0;34m]\u001b[0m\u001b[0;34m[\u001b[0m\u001b[0;36m1\u001b[0m\u001b[0;34m]\u001b[0m\u001b[0;34m)\u001b[0m\u001b[0;34m:\u001b[0m\u001b[0;34m\u001b[0m\u001b[0m\n\u001b[0m\u001b[1;32m    133\u001b[0m                                 \u001b[0;32mif\u001b[0m \u001b[0mself\u001b[0m\u001b[0;34m.\u001b[0m\u001b[0mpacked_output\u001b[0m\u001b[0;34m[\u001b[0m\u001b[0mself\u001b[0m\u001b[0;34m.\u001b[0m\u001b[0mtruck_id\u001b[0m\u001b[0;34m]\u001b[0m\u001b[0;34m[\u001b[0m\u001b[0mm\u001b[0m\u001b[0;34m]\u001b[0m\u001b[0;34m[\u001b[0m\u001b[0;36m2\u001b[0m\u001b[0;34m]\u001b[0m\u001b[0;34m[\u001b[0m\u001b[0;36m0\u001b[0m\u001b[0;34m]\u001b[0m \u001b[0;34m>\u001b[0m \u001b[0mmax_x\u001b[0m\u001b[0;34m:\u001b[0m\u001b[0;34m\u001b[0m\u001b[0m\n\u001b[1;32m    134\u001b[0m                                     \u001b[0mmax_x\u001b[0m \u001b[0;34m=\u001b[0m \u001b[0mself\u001b[0m\u001b[0;34m.\u001b[0m\u001b[0mpacked_output\u001b[0m\u001b[0;34m[\u001b[0m\u001b[0mself\u001b[0m\u001b[0;34m.\u001b[0m\u001b[0mtruck_id\u001b[0m\u001b[0;34m]\u001b[0m\u001b[0;34m[\u001b[0m\u001b[0mm\u001b[0m\u001b[0;34m]\u001b[0m\u001b[0;34m[\u001b[0m\u001b[0;36m2\u001b[0m\u001b[0;34m]\u001b[0m\u001b[0;34m[\u001b[0m\u001b[0;36m0\u001b[0m\u001b[0;34m]\u001b[0m\u001b[0;34m\u001b[0m\u001b[0m\n",
      "\u001b[0;31mKeyboardInterrupt\u001b[0m: "
     ]
    }
   ],
   "source": [
    "test1.packing('box2',4,3,10)"
   ]
  },
  {
   "cell_type": "code",
   "execution_count": 39,
   "metadata": {},
   "outputs": [
    {
     "data": {
      "text/plain": [
       "10"
      ]
     },
     "execution_count": 39,
     "metadata": {},
     "output_type": "execute_result"
    }
   ],
   "source": [
    "test1.box_weight"
   ]
  },
  {
   "cell_type": "code",
   "execution_count": null,
   "metadata": {},
   "outputs": [],
   "source": []
  }
 ],
 "metadata": {
  "kernelspec": {
   "display_name": "Python 3",
   "language": "python",
   "name": "python3"
  },
  "language_info": {
   "codemirror_mode": {
    "name": "ipython",
    "version": 3
   },
   "file_extension": ".py",
   "mimetype": "text/x-python",
   "name": "python",
   "nbconvert_exporter": "python",
   "pygments_lexer": "ipython3",
   "version": "3.7.0"
  }
 },
 "nbformat": 4,
 "nbformat_minor": 2
}
